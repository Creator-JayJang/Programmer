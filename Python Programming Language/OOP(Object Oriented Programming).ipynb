{
 "cells": [
  {
   "cell_type": "markdown",
   "metadata": {},
   "source": [
    "## SoccerPlayer Code"
   ]
  },
  {
   "cell_type": "code",
   "execution_count": 6,
   "metadata": {},
   "outputs": [
    {
     "name": "stdout",
     "output_type": "stream",
     "text": [
      "Back Number of Player 10\n",
      "Change Back Number of Player: From 10 to 5\n",
      "Back Number of Player 5\n",
      "Hello, My name is Jinhyun. I play in MF in center.\n"
     ]
    }
   ],
   "source": [
    "class SoccerPlayer(object):\n",
    "    def __init__(self, name, position, back_number):\n",
    "        self.name = name\n",
    "        self.position = position\n",
    "        self.back_number = back_number\n",
    "    def change_back_number(self, new_number):\n",
    "        print(\"Change Back Number of Player: From %d to %d\" % (self.back_number, new_number))\n",
    "        self.back_number = new_number\n",
    "    def __str__(self):\n",
    "        return \"Hello, My name is %s. I play in %s in center.\" % (self.name, self.position)\n",
    "    \n",
    "#instance code using SoccerPlayer\n",
    "jinhyun = SoccerPlayer(\"Jinhyun\", \"MF\", 10)\n",
    "\n",
    "print(\"Back Number of Player\", jinhyun.back_number)\n",
    "jinhyun.change_back_number(5)\n",
    "print(\"Back Number of Player\", jinhyun.back_number)\n",
    "print(jinhyun)"
   ]
  },
  {
   "cell_type": "markdown",
   "metadata": {},
   "source": [
    "## Class"
   ]
  },
  {
   "cell_type": "code",
   "execution_count": 14,
   "metadata": {},
   "outputs": [
    {
     "name": "stdout",
     "output_type": "stream",
     "text": [
      "[['Messi', 'MF', 10], ['Ramos', 'DF', 4], ['Ronaldo', 'CF', 7], ['Park', 'WF', 13], ['Buffon', 'GK', 1]]\n",
      "['Messi', 'MF', 10]\n",
      "Hello, My name is Messi. I play in MF in center.\n"
     ]
    }
   ],
   "source": [
    "names = [\"Messi\", \"Ramos\", \"Ronaldo\", \"Park\", \"Buffon\"]\n",
    "positions = [\"MF\", \"DF\", \"CF\", \"WF\", \"GK\"]\n",
    "numbers = [10, 4, 7, 13, 1]\n",
    "\n",
    "players = [[name, position, number] for name, position, number in zip(names, positions, numbers)]\n",
    "print(players)\n",
    "print(players[0])\n",
    "\n",
    "class SoccerfPlayer(object):\n",
    "    def __init__(self, name, position, back_number):\n",
    "        self.name = name\n",
    "        self.position = position\n",
    "        self.back_number = back_number\n",
    "    def change_back_number(self, new_number):\n",
    "        print(\"Change Back Number of Player: From %d to %d\" % (self.back_number, new_number))\n",
    "        self.back_number = new_number\n",
    "    def __str__(self):\n",
    "        return \"Hello, My name is %s. I play in %s in center.\" % (self.name, self.position)\n",
    "    \n",
    "#Class - instance\n",
    "player_objects = [SoccerPlayer(name, position, number) for name, position, \n",
    "                  number in zip(names, positions, numbers)]\n",
    "print(player_objects[0])"
   ]
  },
  {
   "cell_type": "markdown",
   "metadata": {},
   "source": [
    "## Block Class"
   ]
  },
  {
   "cell_type": "code",
   "execution_count": null,
   "metadata": {},
   "outputs": [],
   "source": [
    "class block_factory:\n",
    "    def __init__(self, company):\n",
    "        self.company = company\n",
    "        \n",
    "newblock = block_factory(\"Gole\")\n",
    "newblock.color = \"blue\"\n",
    "newblock.shape = \"long\"\n",
    "\n",
    "print(\"Block Information\")\n",
    "print(\"Block Company :\", newblock.company)\n",
    "print(\"Block Color :\", newblock.color)\n",
    "print(\"Block Shape :\", newblock.shape)"
   ]
  },
  {
   "cell_type": "markdown",
   "metadata": {},
   "source": [
    "## Block Class2"
   ]
  },
  {
   "cell_type": "code",
   "execution_count": 18,
   "metadata": {},
   "outputs": [
    {
     "name": "stdout",
     "output_type": "stream",
     "text": [
      "Block Information\n",
      "Block Company : Gole Block Color : blue Block Shape long\n",
      "Block Company : Gole Block Color : black Block Shape : short\n",
      "Block Company : Oxford Block Color : red Block Shape : big\n"
     ]
    }
   ],
   "source": [
    "class block_factory:\n",
    "    def __init__(self, company, color, shape):\n",
    "        self.company = company\n",
    "        self.color = color\n",
    "        self.shape = shape\n",
    "        \n",
    "newblock = block_factory(\"Gole\", \"blue\", \"long\")\n",
    "newblock2 = block_factory(\"Gole\", \"black\", \"short\")\n",
    "newblock3 = block_factory(\"Oxford\", \"red\", \"big\")\n",
    "\n",
    "print(\"Block Information\")\n",
    "print(\"Block Company :\", newblock.company, \"Block Color :\", newblock.color, \"Block Shape\", newblock.shape)\n",
    "print(\"Block Company : %s Block Color : %s Block Shape : %s\"%(newblock2.company, newblock2.color, newblock2.shape))\n",
    "print(\"Block Company : {0} Block Color : {1} Block Shape : {2}\".format(newblock3.company, newblock3.color, newblock3.shape))\n"
   ]
  },
  {
   "cell_type": "markdown",
   "metadata": {},
   "source": [
    "## Calculator"
   ]
  },
  {
   "cell_type": "code",
   "execution_count": 5,
   "metadata": {},
   "outputs": [
    {
     "data": {
      "text/plain": [
       "1.6666666666666667"
      ]
     },
     "execution_count": 5,
     "metadata": {},
     "output_type": "execute_result"
    }
   ],
   "source": [
    "class calculator:\n",
    "    def plus(self, x, y):\n",
    "        return x+y\n",
    "    def minus(self, x, y):\n",
    "        return x-y\n",
    "    def multiply(self, x, y):\n",
    "        return x*y\n",
    "    def divide(self, x, y):\n",
    "        return x/y\n",
    "\n",
    "calc = calculator()\n",
    "calc.plus(5,3)\n",
    "calc.minus(5,3)\n",
    "calc.multiply(5,3)\n",
    "calc.divide(5,3)"
   ]
  },
  {
   "cell_type": "code",
   "execution_count": 37,
   "metadata": {},
   "outputs": [
    {
     "name": "stdout",
     "output_type": "stream",
     "text": [
      "2\n",
      "0\n"
     ]
    }
   ],
   "source": [
    "class Counter:\n",
    "    def __init__(self):\n",
    "        self.count = 0\n",
    "    def reset(self):\n",
    "        self.count = 0\n",
    "    def increment(self):\n",
    "        self.count += 1\n",
    "    def get(self):\n",
    "        return self.count\n",
    "    \n",
    "ct = Counter()\n",
    "ct.increment()\n",
    "ct.increment()\n",
    "print(ct.get())\n",
    "ct.reset()\n",
    "print(ct.get())\n"
   ]
  },
  {
   "cell_type": "code",
   "execution_count": 29,
   "metadata": {},
   "outputs": [
    {
     "name": "stdout",
     "output_type": "stream",
     "text": [
      "100 Deposit in Bank account\n",
      "10 Withdraw in Bank account\n"
     ]
    },
    {
     "data": {
      "text/plain": [
       "90"
      ]
     },
     "execution_count": 29,
     "metadata": {},
     "output_type": "execute_result"
    }
   ],
   "source": [
    "class BankAccount:\n",
    "    def __init__(self):\n",
    "        self.__balance = 0\n",
    "    \n",
    "    def withdraw(self, amount):\n",
    "        self.__balance -= amount\n",
    "        print(amount, \"Withdraw in Bank account\")\n",
    "        return self.__balance\n",
    "    \n",
    "    def deposit(self, amount):\n",
    "        self.__balance += amount\n",
    "        print(amount, \"Deposit in Bank account\")\n",
    "        return self.__balance\n",
    "\n",
    "a = BankAccount()\n",
    "a.deposit(100)\n",
    "a.withdraw(10)\n"
   ]
  },
  {
   "cell_type": "markdown",
   "metadata": {},
   "source": [
    "## Instance to Function"
   ]
  },
  {
   "cell_type": "code",
   "execution_count": 33,
   "metadata": {},
   "outputs": [
    {
     "name": "stdout",
     "output_type": "stream",
     "text": [
      "0 \t 0\n",
      "1 \t 1\n",
      "2 \t 4\n",
      "3 \t 9\n",
      "4 \t 16\n",
      "Rectangle side =  5\n",
      "Repeat Number = 5\n"
     ]
    }
   ],
   "source": [
    "class Rectangle:\n",
    "    def __init__(self, side=0):\n",
    "        self.side = side\n",
    "        \n",
    "    def getArea(self):\n",
    "        return self.side*self.side\n",
    "    \n",
    "def printAreas(r,n):\n",
    "    while n >= 1:\n",
    "        print(r.side, \"\\t\", r.getArea())\n",
    "        r.side = r.side + 1\n",
    "        n = n - 1\n",
    "        \n",
    "myRect = Rectangle();\n",
    "count = 5\n",
    "printAreas(myRect, count)\n",
    "print(\"Rectangle side = \", myRect.side)\n",
    "print(\"Repeat Number =\", count)"
   ]
  },
  {
   "cell_type": "markdown",
   "metadata": {},
   "source": [
    "## Static "
   ]
  },
  {
   "cell_type": "markdown",
   "metadata": {},
   "source": [
    "## Special Method"
   ]
  },
  {
   "cell_type": "code",
   "execution_count": 43,
   "metadata": {},
   "outputs": [
    {
     "ename": "TypeError",
     "evalue": "Circle() takes no arguments",
     "output_type": "error",
     "traceback": [
      "\u001b[1;31m---------------------------------------------------------------------------\u001b[0m",
      "\u001b[1;31mTypeError\u001b[0m                                 Traceback (most recent call last)",
      "\u001b[1;32m<ipython-input-43-92a39688e973>\u001b[0m in \u001b[0;36m<module>\u001b[1;34m\u001b[0m\n\u001b[0;32m      4\u001b[0m         \u001b[1;32mreturn\u001b[0m \u001b[0mself\u001b[0m\u001b[1;33m.\u001b[0m\u001b[0mradius\u001b[0m \u001b[1;33m==\u001b[0m \u001b[0mother\u001b[0m\u001b[1;33m.\u001b[0m\u001b[0mradius\u001b[0m\u001b[1;33m\u001b[0m\u001b[1;33m\u001b[0m\u001b[0m\n\u001b[0;32m      5\u001b[0m \u001b[1;33m\u001b[0m\u001b[0m\n\u001b[1;32m----> 6\u001b[1;33m \u001b[0mc1\u001b[0m \u001b[1;33m=\u001b[0m \u001b[0mCircle\u001b[0m\u001b[1;33m(\u001b[0m\u001b[1;36m10\u001b[0m\u001b[1;33m)\u001b[0m\u001b[1;33m\u001b[0m\u001b[1;33m\u001b[0m\u001b[0m\n\u001b[0m\u001b[0;32m      7\u001b[0m \u001b[0mc2\u001b[0m \u001b[1;33m=\u001b[0m \u001b[0mCircle\u001b[0m\u001b[1;33m(\u001b[0m\u001b[1;36m10\u001b[0m\u001b[1;33m)\u001b[0m\u001b[1;33m\u001b[0m\u001b[1;33m\u001b[0m\u001b[0m\n\u001b[0;32m      8\u001b[0m \u001b[1;32mif\u001b[0m \u001b[0mc1\u001b[0m \u001b[1;33m==\u001b[0m \u001b[0mc2\u001b[0m\u001b[1;33m:\u001b[0m\u001b[1;33m\u001b[0m\u001b[1;33m\u001b[0m\u001b[0m\n",
      "\u001b[1;31mTypeError\u001b[0m: Circle() takes no arguments"
     ]
    }
   ],
   "source": [
    "class Circle:\n",
    "    ...\n",
    "    def __eq__(self, other):\n",
    "        return self.radius == other.radius\n",
    "    \n",
    "c1 = Circle(10)\n",
    "c2 = Circle(10)\n",
    "if c1 == c2:\n",
    "    print(\"Radius are same. \")\n",
    "    "
   ]
  },
  {
   "cell_type": "code",
   "execution_count": null,
   "metadata": {},
   "outputs": [],
   "source": [
    "class Vector2D :\n",
    "    def __init__(self, x, y):\n",
    "        self.x = x\n",
    "        self.y = y\n",
    "        \n",
    "    def __add__(self, other):\n",
    "        return Vector2D(self.x + other.x, self.y + other.y)\n",
    "    \n",
    "    def __sub__(self, other):\n",
    "        return Vector2D(self.x - other.x, self.y - other.y)\n",
    " \n",
    "    def __eq__(self, other):\n",
    "        return self.x == other.x and self.y == other.y\n",
    "    \n",
    "    def __str__(self):\n",
    "        return '(%g, %g)' "
   ]
  },
  {
   "cell_type": "markdown",
   "metadata": {},
   "source": [
    "## NoteBook Program"
   ]
  },
  {
   "cell_type": "code",
   "execution_count": 2,
   "metadata": {},
   "outputs": [
    {
     "ename": "NameError",
     "evalue": "name 'good_sentence' is not defined",
     "output_type": "error",
     "traceback": [
      "\u001b[1;31m---------------------------------------------------------------------------\u001b[0m",
      "\u001b[1;31mNameError\u001b[0m                                 Traceback (most recent call last)",
      "\u001b[1;32m<ipython-input-2-746a4da06f82>\u001b[0m in \u001b[0;36m<module>\u001b[1;34m\u001b[0m\n\u001b[0;32m      2\u001b[0m \u001b[1;32mfrom\u001b[0m \u001b[0mnotebook\u001b[0m \u001b[1;32mimport\u001b[0m \u001b[0mNoteBook\u001b[0m\u001b[1;33m\u001b[0m\u001b[1;33m\u001b[0m\u001b[0m\n\u001b[0;32m      3\u001b[0m \u001b[1;33m\u001b[0m\u001b[0m\n\u001b[1;32m----> 4\u001b[1;33m \u001b[0mnote_1\u001b[0m \u001b[1;33m=\u001b[0m \u001b[0mNote\u001b[0m\u001b[1;33m(\u001b[0m\u001b[0mgood_sentence\u001b[0m\u001b[1;33m)\u001b[0m\u001b[1;33m\u001b[0m\u001b[1;33m\u001b[0m\u001b[0m\n\u001b[0m\u001b[0;32m      5\u001b[0m \u001b[0mnote_1\u001b[0m\u001b[1;33m\u001b[0m\u001b[1;33m\u001b[0m\u001b[0m\n\u001b[0;32m      6\u001b[0m \u001b[0mprint\u001b[0m\u001b[1;33m(\u001b[0m\u001b[0mnote_1\u001b[0m\u001b[1;33m)\u001b[0m\u001b[1;33m\u001b[0m\u001b[1;33m\u001b[0m\u001b[0m\n",
      "\u001b[1;31mNameError\u001b[0m: name 'good_sentence' is not defined"
     ]
    }
   ],
   "source": [
    "from notebook import Note\n",
    "from notebook import NoteBook\n",
    "\n",
    "note_1 = Note(good_sentence)\n",
    "note_1\n",
    "print(note_1)"
   ]
  }
 ],
 "metadata": {
  "kernelspec": {
   "display_name": "Python 3",
   "language": "python",
   "name": "python3"
  },
  "language_info": {
   "codemirror_mode": {
    "name": "ipython",
    "version": 3
   },
   "file_extension": ".py",
   "mimetype": "text/x-python",
   "name": "python",
   "nbconvert_exporter": "python",
   "pygments_lexer": "ipython3",
   "version": "3.7.6"
  }
 },
 "nbformat": 4,
 "nbformat_minor": 4
}
