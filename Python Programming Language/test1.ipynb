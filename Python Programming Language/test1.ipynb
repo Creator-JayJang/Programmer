{
 "cells": [
  {
   "cell_type": "code",
   "execution_count": 2,
   "metadata": {
    "scrolled": false
   },
   "outputs": [
    {
     "name": "stdout",
     "output_type": "stream",
     "text": [
      "Hi\n"
     ]
    }
   ],
   "source": [
    "print('Hi')"
   ]
  },
  {
   "cell_type": "markdown",
   "metadata": {},
   "source": [
    "# First Programming\n",
    "## Say Hi"
   ]
  },
  {
   "cell_type": "code",
   "execution_count": 4,
   "metadata": {},
   "outputs": [],
   "source": [
    "import turtle as t\n",
    "\n",
    "t.color(\"red\")\n",
    "t.forward(300)\n",
    "t.left(120)\n",
    "t.forward(300)\n",
    "t.left(120)\n",
    "t.forward(300)\n",
    "t.left(120)\n",
    "\n",
    "t.color(\"green\")\n",
    "t.pensize(3)\n",
    "t.forward(100)\n",
    "t.left(90)\n",
    "t.forward(100)\n",
    "t.left(90)\n",
    "t.forward(100)\n",
    "t.left(90)\n",
    "t.forward(100)\n",
    "t.left(90)\n",
    "\n",
    "t.color(\"blue\")\n",
    "t.pensize(5)\n",
    "t.circle(100)\n"
   ]
  },
  {
   "cell_type": "code",
   "execution_count": 31,
   "metadata": {},
   "outputs": [],
   "source": [
    "x ,y = 10, 20\n",
    "x,y=y,x"
   ]
  },
  {
   "cell_type": "code",
   "execution_count": 32,
   "metadata": {},
   "outputs": [
    {
     "data": {
      "text/plain": [
       "20"
      ]
     },
     "execution_count": 32,
     "metadata": {},
     "output_type": "execute_result"
    }
   ],
   "source": [
    "x"
   ]
  },
  {
   "cell_type": "code",
   "execution_count": 33,
   "metadata": {},
   "outputs": [
    {
     "data": {
      "text/plain": [
       "10"
      ]
     },
     "execution_count": 33,
     "metadata": {},
     "output_type": "execute_result"
    }
   ],
   "source": [
    "y"
   ]
  },
  {
   "cell_type": "markdown",
   "metadata": {},
   "source": [
    "# Example1"
   ]
  },
  {
   "cell_type": "code",
   "execution_count": 36,
   "metadata": {},
   "outputs": [
    {
     "name": "stdout",
     "output_type": "stream",
     "text": [
      "41\n",
      "80\n"
     ]
    }
   ],
   "source": [
    "myMoney = 5000;\n",
    "candyPrice = 120;\n",
    "\n",
    "numCandies = myMoney//candyPrice\n",
    "print(numCandies)\n",
    "\n",
    "change = myMoney % candyPrice;\n",
    "print(change)"
   ]
  },
  {
   "cell_type": "markdown",
   "metadata": {},
   "source": [
    "# Example2"
   ]
  },
  {
   "cell_type": "code",
   "execution_count": 37,
   "metadata": {},
   "outputs": [],
   "source": [
    "import turtle as t\n",
    "\n",
    "d=100\n",
    "\n",
    "t.forward(d)\n",
    "t.left(60)\n",
    "t.forward(d)\n",
    "t.left(60)\n",
    "t.forward(d)\n",
    "t.left(60)\n",
    "t.forward(d)\n",
    "t.left(60)\n",
    "t.forward(d)\n",
    "t.left(60)\n",
    "t.forward(d)\n",
    "t.left(60)"
   ]
  },
  {
   "cell_type": "markdown",
   "metadata": {},
   "source": [
    "# Example3"
   ]
  },
  {
   "cell_type": "code",
   "execution_count": 3,
   "metadata": {},
   "outputs": [
    {
     "data": {
      "text/plain": [
       "111442737812.28842"
      ]
     },
     "execution_count": 3,
     "metadata": {},
     "output_type": "execute_result"
    }
   ],
   "source": [
    "Money = 24\n",
    "Rate = 0.06\n",
    "Year = 382\n",
    "FV = Money * (1+0.06)**382\n",
    "FV"
   ]
  },
  {
   "cell_type": "markdown",
   "metadata": {},
   "source": [
    "# Example4"
   ]
  },
  {
   "cell_type": "code",
   "execution_count": 7,
   "metadata": {},
   "outputs": [
    {
     "name": "stdout",
     "output_type": "stream",
     "text": [
      "133333333.33333333\n",
      "4.227972264501945\n"
     ]
    }
   ],
   "source": [
    "Length = 40 * 10 ** 12\n",
    "SpeedOfLight = 3 * 10 ** 5\n",
    "secs = Length/SpeedOfLight\n",
    "print(secs)\n",
    "light_year = secs/(60*60*24*365)\n",
    "print(light_year)"
   ]
  },
  {
   "cell_type": "markdown",
   "metadata": {},
   "source": [
    "# Lab2"
   ]
  },
  {
   "cell_type": "code",
   "execution_count": 14,
   "metadata": {},
   "outputs": [
    {
     "data": {
      "text/plain": [
       "485"
      ]
     },
     "execution_count": 14,
     "metadata": {},
     "output_type": "execute_result"
    }
   ],
   "source": [
    "init_potato = 20\n",
    "week_potato = 40-10\n",
    "dayEat_potato = 3\n",
    "tot_potato = init_potato + week_potato * 52 - dayEat_potato * 365\n",
    "tot_potato"
   ]
  },
  {
   "cell_type": "markdown",
   "metadata": {},
   "source": [
    "# Lab3"
   ]
  },
  {
   "cell_type": "code",
   "execution_count": 24,
   "metadata": {},
   "outputs": [
    {
     "data": {
      "text/plain": [
       "1.5666666666666667"
      ]
     },
     "execution_count": 24,
     "metadata": {},
     "output_type": "execute_result"
    }
   ],
   "source": [
    "Ground = 18 / 20\n",
    "uphill = ((3 ** 2 + 4 ** 2)**0.5) /10\n",
    "downhill = ((3 ** 2 + 4 ** 2)**0.5) /30\n",
    "Time = Ground + uphill + downhill\n",
    "Time"
   ]
  },
  {
   "cell_type": "markdown",
   "metadata": {},
   "source": [
    "# Example InputOutput 1"
   ]
  },
  {
   "cell_type": "markdown",
   "metadata": {},
   "source": [
    "a = input ('Input First Number : ')\n",
    "b = input ('Input Second Number : ')\n",
    "\n",
    "print(a+b)"
   ]
  },
  {
   "cell_type": "markdown",
   "metadata": {},
   "source": [
    "# Example InputOutput 2"
   ]
  },
  {
   "cell_type": "code",
   "execution_count": 26,
   "metadata": {},
   "outputs": [
    {
     "name": "stdout",
     "output_type": "stream",
     "text": [
      "Input First Number : 56\n",
      "Input Second Number : 4\n",
      "60\n"
     ]
    }
   ],
   "source": [
    "a = int(input ('Input First Number : '))\n",
    "b = int(input ('Input Second Number : '))\n",
    "\n",
    "print(a+b)"
   ]
  },
  {
   "cell_type": "markdown",
   "metadata": {},
   "source": [
    "# Example InputOutput 3"
   ]
  },
  {
   "cell_type": "code",
   "execution_count": 30,
   "metadata": {},
   "outputs": [
    {
     "name": "stdout",
     "output_type": "stream",
     "text": [
      "Input Word : Hello Python\n",
      "Hello\n",
      "Python\n"
     ]
    }
   ],
   "source": [
    "a, b = input('Input Word : ').split()\n",
    "print(a)\n",
    "print(b)"
   ]
  },
  {
   "cell_type": "markdown",
   "metadata": {},
   "source": [
    "# Example InputOutput 4"
   ]
  },
  {
   "cell_type": "code",
   "execution_count": 32,
   "metadata": {},
   "outputs": [
    {
     "name": "stdout",
     "output_type": "stream",
     "text": [
      "Input 2 Numbers : 2 4\n",
      "6\n"
     ]
    }
   ],
   "source": [
    "a, b = input('Input 2 Numbers : ').split()\n",
    "print(int (a) + int (b) )"
   ]
  },
  {
   "cell_type": "markdown",
   "metadata": {},
   "source": [
    "# Example InputOutput 5"
   ]
  },
  {
   "cell_type": "code",
   "execution_count": 34,
   "metadata": {},
   "outputs": [
    {
     "name": "stdout",
     "output_type": "stream",
     "text": [
      "Input 2 Numbers : 5 80\n",
      "85\n"
     ]
    }
   ],
   "source": [
    "a, b = map (int, input('Input 2 Numbers : ').split())\n",
    "print(a + b) "
   ]
  },
  {
   "cell_type": "markdown",
   "metadata": {},
   "source": [
    "# Example InputOutput 6"
   ]
  },
  {
   "cell_type": "code",
   "execution_count": 36,
   "metadata": {},
   "outputs": [
    {
     "name": "stdout",
     "output_type": "stream",
     "text": [
      "Input 2 Numbers : 7, 90\n",
      "97\n"
     ]
    }
   ],
   "source": [
    "a, b = map (int, input('Input 2 Numbers : ').split(','))\n",
    "print(a + b) "
   ]
  },
  {
   "cell_type": "code",
   "execution_count": null,
   "metadata": {},
   "outputs": [],
   "source": []
  }
 ],
 "metadata": {
  "kernelspec": {
   "display_name": "Python 3",
   "language": "python",
   "name": "python3"
  },
  "language_info": {
   "codemirror_mode": {
    "name": "ipython",
    "version": 3
   },
   "file_extension": ".py",
   "mimetype": "text/x-python",
   "name": "python",
   "nbconvert_exporter": "python",
   "pygments_lexer": "ipython3",
   "version": "3.7.6"
  }
 },
 "nbformat": 4,
 "nbformat_minor": 4
}
