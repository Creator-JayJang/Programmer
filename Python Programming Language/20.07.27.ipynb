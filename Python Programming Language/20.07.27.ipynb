{
 "cells": [
  {
   "cell_type": "markdown",
   "metadata": {},
   "source": [
    "## Compile"
   ]
  },
  {
   "cell_type": "code",
   "execution_count": 6,
   "metadata": {},
   "outputs": [
    {
     "ename": "ValueError",
     "evalue": "compile() mode must be 'exec', 'eval' or 'single'",
     "output_type": "error",
     "traceback": [
      "\u001b[1;31m---------------------------------------------------------------------------\u001b[0m",
      "\u001b[1;31mValueError\u001b[0m                                Traceback (most recent call last)",
      "\u001b[1;32m<ipython-input-6-3dc52cf52907>\u001b[0m in \u001b[0;36m<module>\u001b[1;34m\u001b[0m\n\u001b[0;32m      1\u001b[0m \u001b[0mex\u001b[0m \u001b[1;33m=\u001b[0m \u001b[1;34m\"x = pow(2,4) \"\u001b[0m\u001b[1;33m\u001b[0m\u001b[1;33m\u001b[0m\u001b[0m\n\u001b[1;32m----> 2\u001b[1;33m \u001b[0mcom\u001b[0m \u001b[1;33m=\u001b[0m \u001b[0mcompile\u001b[0m\u001b[1;33m(\u001b[0m\u001b[0mex\u001b[0m\u001b[1;33m,\u001b[0m \u001b[1;34m'<string> '\u001b[0m\u001b[1;33m,\u001b[0m \u001b[1;34m'exec '\u001b[0m\u001b[1;33m)\u001b[0m\u001b[1;33m\u001b[0m\u001b[1;33m\u001b[0m\u001b[0m\n\u001b[0m\u001b[0;32m      3\u001b[0m \u001b[0mexec\u001b[0m\u001b[1;33m(\u001b[0m\u001b[0mcom\u001b[0m\u001b[1;33m)\u001b[0m\u001b[1;33m\u001b[0m\u001b[1;33m\u001b[0m\u001b[0m\n\u001b[0;32m      4\u001b[0m \u001b[0mx\u001b[0m\u001b[1;33m\u001b[0m\u001b[1;33m\u001b[0m\u001b[0m\n",
      "\u001b[1;31mValueError\u001b[0m: compile() mode must be 'exec', 'eval' or 'single'"
     ]
    }
   ],
   "source": [
    "ex = \"x = pow(2,4) \"\n",
    "com = compile(ex, '<string> ', 'exec ')\n",
    "exec(com)\n",
    "x"
   ]
  },
  {
   "cell_type": "markdown",
   "metadata": {},
   "source": [
    "## Lab2"
   ]
  },
  {
   "cell_type": "code",
   "execution_count": 37,
   "metadata": {},
   "outputs": [
    {
     "name": "stdout",
     "output_type": "stream",
     "text": [
      "Input 45+74.22\n",
      "w\n"
     ]
    }
   ],
   "source": [
    "def cal():\n",
    "    a = eval(input(\"Input \"))\n",
    "    a = abs(a)\n",
    "    a = round(a,0)\n",
    "    a = int(a)\n",
    "    \n",
    "    if 90>=a>=65 or 122>=a>=97:\n",
    "        print(chr(a))\n",
    "    else:\n",
    "        print(str(a))\n",
    "cal()"
   ]
  },
  {
   "cell_type": "markdown",
   "metadata": {},
   "source": [
    "## Lab3"
   ]
  },
  {
   "cell_type": "code",
   "execution_count": 33,
   "metadata": {},
   "outputs": [
    {
     "name": "stdout",
     "output_type": "stream",
     "text": [
      "Data True Judgement :  True\n",
      "Data Length :  5\n",
      "Max Data :  b\n",
      "Data Order :  ['1', '3', '5', 'A', 'b']\n",
      "Data Number :  [(0, '1'), (1, '3'), (2, '5'), (3, 'A'), (4, 'b')]\n"
     ]
    }
   ],
   "source": [
    "def simul(a):\n",
    "    a = list(map(str,a))\n",
    "    print(\"Data True Judgement : \", all(a))\n",
    "    print(\"Data Length : \", len(a))\n",
    "    print(\"Max Data : \", max(a))\n",
    "    print(\"Data Order : \", sorted(a))\n",
    "    print(\"Data Number : \", list(enumerate(a)))\n",
    "\n",
    "simul([1, 3, 5, \"A\", \"b\"])"
   ]
  },
  {
   "cell_type": "markdown",
   "metadata": {},
   "source": [
    "## Lambda Function #1"
   ]
  },
  {
   "cell_type": "code",
   "execution_count": 9,
   "metadata": {},
   "outputs": [
    {
     "name": "stdout",
     "output_type": "stream",
     "text": [
      "Input x coordinate : 3\n",
      "Input y coordinate : 4\n",
      "Distance :  5.0\n"
     ]
    }
   ],
   "source": [
    "x = input('Input x coordinate : ')\n",
    "y = input('Input y coordinate : ')\n",
    "z = (int(x)**2 +int(y)**2)**0.5\n",
    "print('Distance : ', z)\n",
    "\n",
    "# f = lambda x,y: (x**2 + y**2)**0.5\n",
    "# f(3,4)"
   ]
  },
  {
   "cell_type": "code",
   "execution_count": null,
   "metadata": {},
   "outputs": [],
   "source": [
    "def distance(x=0,y=0):\n",
    "    if x==0 and y==0:\n",
    "        x = int(input(input('input x coordinate : ')))\n",
    "        y = int(input(input('input y coordinate : ')))\n",
    "        "
   ]
  },
  {
   "cell_type": "markdown",
   "metadata": {},
   "source": [
    "## Lambda Function #2"
   ]
  },
  {
   "cell_type": "code",
   "execution_count": 4,
   "metadata": {},
   "outputs": [
    {
     "name": "stdout",
     "output_type": "stream",
     "text": [
      "Input Member Name : James\n",
      "Borrow Book Code :q\n",
      "Input Member Name : q\n",
      "Borrwer List \n",
      "{'James': []}\n"
     ]
    }
   ],
   "source": [
    "book = {\"1. abc\", \"2.def\", \"3.ghi\", \"4.jkl\", \"5.mno\", \"6.pqr\", \"7.stu\", \"8.vwx\", \"9. yz\"}\n",
    "borrower = {}\n",
    "\n",
    "def borrow():\n",
    "    cnt = 0\n",
    "    book_list = []\n",
    "    while cnt != 3:\n",
    "        thisbook = input(\"Borrow Book Code : \")\n",
    "        if thisbook == 'q':\n",
    "            break\n",
    "        book_list.append(book[int(thisbook)])\n",
    "        cnt = cnt + 1\n",
    "    return book_list\n",
    "\n",
    "while True:\n",
    "    a = input('Input Member Name : ')\n",
    "    if a == \"q\":\n",
    "        break\n",
    "    borrower[a] = borrow()\n",
    "\n",
    "print('Borrwer List ' )\n",
    "print(borrower)"
   ]
  },
  {
   "cell_type": "markdown",
   "metadata": {},
   "source": [
    "## Matrix_1"
   ]
  },
  {
   "cell_type": "code",
   "execution_count": 8,
   "metadata": {},
   "outputs": [
    {
     "name": "stdout",
     "output_type": "stream",
     "text": [
      "[[8, 14], [10, 12]]\n"
     ]
    },
    {
     "data": {
      "text/plain": [
       "[([3, 6], [5, 8]), ([4, 5], [6, 7])]"
      ]
     },
     "execution_count": 8,
     "metadata": {},
     "output_type": "execute_result"
    }
   ],
   "source": [
    "matrix_a = [[3, 6], [4, 5]]\n",
    "matrix_b = [[5, 8], [6, 7]]\n",
    "result = [[sum(row) for row in zip(*t)]for t in zip(matrix_a,matrix_b)]\n",
    "print(result)\n",
    "[t for t in zip(matrix_a, matrix_b)]"
   ]
  },
  {
   "cell_type": "markdown",
   "metadata": {},
   "source": [
    "## Matrix_2"
   ]
  },
  {
   "cell_type": "code",
   "execution_count": 11,
   "metadata": {},
   "outputs": [
    {
     "data": {
      "text/plain": [
       "[[True, False], [True, False], [True, False], [True, False]]"
      ]
     },
     "execution_count": 11,
     "metadata": {},
     "output_type": "execute_result"
    }
   ],
   "source": [
    "matrix_a = [[1, 1], [1, 1]]\n",
    "matrix_b = [[1, 1], [1, 1]]\n",
    "all([row[0] == value for t in zip(matrix_a,matrix_b)for row in zip(*t) for value in row])\n",
    "matrix_b = [[5, 8], [6, 7]]\n",
    "all([all([row[0] == value for value in row]) for t in zip(matrix_a, matrix_b) for row in zip(*t)])\n",
    "[[row[0] == value for value in row]for t in zip(matrix_a, matrix_b)for row in zip(*t)]"
   ]
  },
  {
   "cell_type": "markdown",
   "metadata": {},
   "source": [
    "## Transpose Matrix"
   ]
  },
  {
   "cell_type": "code",
   "execution_count": 14,
   "metadata": {},
   "outputs": [
    {
     "data": {
      "text/plain": [
       "[(1, 4), (2, 5), (3, 6)]"
      ]
     },
     "execution_count": 14,
     "metadata": {},
     "output_type": "execute_result"
    }
   ],
   "source": [
    "matrix_a = [[1, 2, 3], [4, 5, 6]]\n",
    "result = [[element for element in t]for t in zip(*matrix_a)]\n",
    "result\n",
    "[t for t in zip(*matrix_a)]"
   ]
  },
  {
   "cell_type": "markdown",
   "metadata": {},
   "source": [
    "## Multiple of Matrix"
   ]
  },
  {
   "cell_type": "code",
   "execution_count": 16,
   "metadata": {},
   "outputs": [
    {
     "data": {
      "text/plain": [
       "[[5, 8], [5, 6]]"
      ]
     },
     "execution_count": 16,
     "metadata": {},
     "output_type": "execute_result"
    }
   ],
   "source": [
    "matrix_a = [[1, 1, 2], [2, 1, 1]]\n",
    "matrix_b = [[1, 1], [2, 1], [1, 3]]\n",
    "result = [[sum(a * b for a, b in zip(row_a, column_b)) for column_b in zip(*matrix_b)]\n",
    "         for row_a in matrix_a]\n",
    "result"
   ]
  },
  {
   "cell_type": "markdown",
   "metadata": {},
   "source": [
    "## All friends"
   ]
  },
  {
   "cell_type": "code",
   "execution_count": 18,
   "metadata": {},
   "outputs": [
    {
     "name": "stdout",
     "output_type": "stream",
     "text": [
      "Summer\n",
      "John\n",
      "Justin\n",
      "Mike\n",
      "May\n",
      "Kim\n",
      "\n",
      "Jerry\n",
      "Tom\n"
     ]
    }
   ],
   "source": [
    "def print_all_friends(g,start):\n",
    "    qu = []\n",
    "    done = set()\n",
    "    \n",
    "    qu.append(start)\n",
    "    done.add(start)\n",
    "    while qu:\n",
    "        p = qu.pop(0)\n",
    "        print(p)\n",
    "        for x in g[p]:\n",
    "            if x not in done:\n",
    "                qu.append(x)\n",
    "                done.add(x)\n",
    "\n",
    "fr_info = {\n",
    "    'Summer' : ['John', 'Justin', 'Mike'],\n",
    "    'John' : ['Summer', 'Justin'],\n",
    "    'Justin' : ['John', 'Summer', 'Mike', 'May'],\n",
    "    'Mike' : ['Summer', 'Justin'],\n",
    "    'May' : ['Justin', 'Kim'],\n",
    "    'Kim' : ['May'],\n",
    "    'Tom' : ['Jerry'],\n",
    "    'Jerry' : ['Tom']\n",
    "    \n",
    "}\n",
    "\n",
    "print_all_friends(fr_info, \"Summer\")\n",
    "print()\n",
    "print_all_friends(fr_info, \"Jerry\")\n"
   ]
  }
 ],
 "metadata": {
  "kernelspec": {
   "display_name": "Python 3",
   "language": "python",
   "name": "python3"
  },
  "language_info": {
   "codemirror_mode": {
    "name": "ipython",
    "version": 3
   },
   "file_extension": ".py",
   "mimetype": "text/x-python",
   "name": "python",
   "nbconvert_exporter": "python",
   "pygments_lexer": "ipython3",
   "version": "3.7.6"
  }
 },
 "nbformat": 4,
 "nbformat_minor": 4
}
