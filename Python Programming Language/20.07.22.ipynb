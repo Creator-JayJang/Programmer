{
 "cells": [
  {
   "cell_type": "markdown",
   "metadata": {},
   "source": [
    "# Phython Day02 "
   ]
  },
  {
   "cell_type": "code",
   "execution_count": 1,
   "metadata": {},
   "outputs": [
    {
     "name": "stdout",
     "output_type": "stream",
     "text": [
      "This program is celsius converter\n",
      "Input celsius temperature\n",
      "30\n",
      "Celsius :  30\n",
      "Fahrenheit :  86.0\n"
     ]
    }
   ],
   "source": [
    "print('This program is celsius converter')\n",
    "print('Input celsius temperature')\n",
    "\n",
    "celsius = input()\n",
    "fahrenheit = (float(celsius) * 1.8) + 32\n",
    "\n",
    "print(\"Celsius : \", celsius)\n",
    "print(\"Fahrenheit : \", fahrenheit)"
   ]
  },
  {
   "cell_type": "code",
   "execution_count": 20,
   "metadata": {
    "scrolled": true
   },
   "outputs": [
    {
     "name": "stdout",
     "output_type": "stream",
     "text": [
      "This is vending machine\n",
      "Input Cost\n",
      "750\n",
      "Input Money\n",
      "1000\n",
      "Change : \n",
      "250\n",
      "1000 won :\n",
      "0\n",
      "500 won :\n",
      "0\n",
      "100 won :\n",
      "2\n",
      "10 won :\n",
      "5\n",
      "1 won :\n",
      "0\n"
     ]
    }
   ],
   "source": [
    "print('This is vending machine')\n",
    "\n",
    "print('Input Cost')\n",
    "Cost = input()\n",
    "\n",
    "print('Input Money')\n",
    "Money = input()\n",
    "\n",
    "print('Change : ')\n",
    "print(int(Money)-int(Cost))\n",
    "change = int(Money)-int(Cost)\n",
    "\n",
    "print('1000 won :')\n",
    "print((change)//1000)\n",
    "change = change%1000\n",
    "\n",
    "print('500 won :')\n",
    "print((change)//500)\n",
    "change = change%500\n",
    "\n",
    "print('100 won :')\n",
    "print((change)//100)\n",
    "change = change%100\n",
    "\n",
    "\n",
    "print('10 won :')\n",
    "print((change)//10)\n",
    "change = change%10\n",
    "\n",
    "print('1 won :')\n",
    "print((change)//1)\n",
    "change = change%1\n"
   ]
  },
  {
   "cell_type": "code",
   "execution_count": 33,
   "metadata": {},
   "outputs": [
    {
     "name": "stdout",
     "output_type": "stream",
     "text": [
      "This is grade program\n",
      "Input Name :\n",
      "asd\n",
      "Input Korean Grade :\n",
      "50\n",
      "Input Math Grade :\n",
      "20\n",
      "Input Society Grade :\n",
      "30\n",
      "Input Science Grade :\n",
      "20\n",
      "Input English Grade :\n",
      "10\n",
      "Grade of asd\n",
      "Sum :  130 Avg :  26.0\n"
     ]
    }
   ],
   "source": [
    "print('This is grade program')\n",
    "print('Input Name :')\n",
    "Name = input()\n",
    "print('Input Korean Grade :')\n",
    "Korean = int(input())\n",
    "print('Input Math Grade :')\n",
    "Math = int(input())\n",
    "print('Input Society Grade :')\n",
    "Society = int(input())\n",
    "print('Input Science Grade :')\n",
    "Science = int(input())\n",
    "print('Input English Grade :')\n",
    "English = int(input())\n",
    "\n",
    "a = (Korean + Math + Society + Science + English)\n",
    "b = ((Korean + Math + Society + Science + English)/5)\n",
    "\n",
    "print('Grade of', Name )\n",
    "print(\"Sum : \", a , \"Avg : \", b )\n",
    "\n"
   ]
  },
  {
   "cell_type": "code",
   "execution_count": 35,
   "metadata": {},
   "outputs": [
    {
     "name": "stdout",
     "output_type": "stream",
     "text": [
      "Input Three People Nameasdf, asfh,afb\n",
      "Happy New Year for asdf\n",
      "Happy New Year for  asfh\n",
      "Happy New Year for afb\n"
     ]
    }
   ],
   "source": [
    "a,b,c = input('Input Three People Name').split(',')\n",
    "\n",
    "print(\"Happy New Year for\", a)\n",
    "print(\"Happy New Year for\", b)\n",
    "print(\"Happy New Year for\", c)\n"
   ]
  },
  {
   "cell_type": "code",
   "execution_count": null,
   "metadata": {},
   "outputs": [],
   "source": [
    "print('This is a x^2 + b x + c calculator')\n",
    "a,b,c = input('a,b,c').split(',')\n",
    "\n"
   ]
  },
  {
   "cell_type": "code",
   "execution_count": 41,
   "metadata": {},
   "outputs": [
    {
     "name": "stdout",
     "output_type": "stream",
     "text": [
      "2000/10/27 11:43:59\n"
     ]
    }
   ],
   "source": [
    "year = 2000\n",
    "month = 10 \n",
    "day = 27\n",
    "hour = 11\n",
    "minuate = 43\n",
    "second = 59\n",
    "\n",
    "print(year, month, day, sep='/' , end = ' ')\n",
    "print(hour, minuate, second, sep=':')\n"
   ]
  },
  {
   "cell_type": "code",
   "execution_count": 45,
   "metadata": {},
   "outputs": [
    {
     "name": "stdout",
     "output_type": "stream",
     "text": [
      "2000 10 27 11 43 59\n",
      "2000-10-27 T 11:43:59\n"
     ]
    }
   ],
   "source": [
    "year, month, day, hour, minuate, second = input().split()\n",
    "print(year, month, day, sep='-', end = ' T ')\n",
    "print(hour, minuate, second, sep=':')"
   ]
  },
  {
   "cell_type": "code",
   "execution_count": 1,
   "metadata": {},
   "outputs": [
    {
     "name": "stdout",
     "output_type": "stream",
     "text": [
      "Input First Word: Original\n",
      "Input Second Word:Sound\n",
      "Input Third Word:Track\n",
      "OST\n"
     ]
    }
   ],
   "source": [
    "word1 = input('Input First Word: ')\n",
    "word2 = input('Input Second Word:')\n",
    "word3 = input('Input Third Word:')\n",
    "\n",
    "acronym = word1[0] + word2[0] + word3[0]\n",
    "print(acronym)"
   ]
  },
  {
   "cell_type": "code",
   "execution_count": 4,
   "metadata": {},
   "outputs": [
    {
     "data": {
      "text/plain": [
       "['A', 'B', 'b', 'bear', 'C']"
      ]
     },
     "execution_count": 4,
     "metadata": {},
     "output_type": "execute_result"
    }
   ],
   "source": [
    "a = [\"A\", \"B\", \"C\"]\n",
    "a[1] = \"b\"\n",
    "a\n",
    "a[1:2] = [\"B\", 'b', 'bear']\n",
    "a"
   ]
  },
  {
   "cell_type": "code",
   "execution_count": 9,
   "metadata": {},
   "outputs": [
    {
     "data": {
      "text/plain": [
       "[]"
      ]
     },
     "execution_count": 9,
     "metadata": {},
     "output_type": "execute_result"
    }
   ],
   "source": [
    "a = ['A','B','C','D','E']\n",
    "del a[0]\n",
    "a\n",
    "del a[0:2]\n",
    "a\n",
    "a[0:2] = []\n",
    "a"
   ]
  },
  {
   "cell_type": "code",
   "execution_count": 16,
   "metadata": {},
   "outputs": [
    {
     "name": "stdout",
     "output_type": "stream",
     "text": [
      "['Incheon', 'Daegu', 'Daejeon', 'Gwangju', 'Ulsan', 'Suwon']\n"
     ]
    },
    {
     "data": {
      "text/plain": [
       "['Seoul',\n",
       " 'Busan',\n",
       " 'Incheon',\n",
       " 'Daegu',\n",
       " 'Daejeon',\n",
       " 'Gwangju',\n",
       " 'Ulsan',\n",
       " 'Suwon',\n",
       " 'Seoul',\n",
       " 'Busan',\n",
       " 'Incheon',\n",
       " 'Daegu',\n",
       " 'Daejeon',\n",
       " 'Gwangju',\n",
       " 'Ulsan',\n",
       " 'Suwon']"
      ]
     },
     "execution_count": 16,
     "metadata": {},
     "output_type": "execute_result"
    }
   ],
   "source": [
    "cities = ['Seoul','Busan','Incheon','Daegu','Daejeon','Gwangju','Ulsan','Suwon']\n",
    "cities[::2]\n",
    "cities[::-1]\n",
    "print(cities[2:50])"
   ]
  },
  {
   "cell_type": "code",
   "execution_count": 25,
   "metadata": {},
   "outputs": [
    {
     "data": {
      "text/plain": [
       "[10, 15, 20, 20, 30, 40]"
      ]
     },
     "execution_count": 25,
     "metadata": {},
     "output_type": "execute_result"
    }
   ],
   "source": [
    "a = [10, 20, 30, 15, 20, 40]\n",
    "a.index(20)\n",
    "a.count(20)\n",
    "a.reverse()\n",
    "a\n",
    "a.sort()\n",
    "a"
   ]
  },
  {
   "cell_type": "code",
   "execution_count": 2,
   "metadata": {},
   "outputs": [
    {
     "data": {
      "text/plain": [
       "[1, 2, 3, 4, 5]"
      ]
     },
     "execution_count": 2,
     "metadata": {},
     "output_type": "execute_result"
    }
   ],
   "source": [
    "a=[1, 2, 3, 4, 5, 6, 7, 8, 9, 10 ]\n",
    "x=a\n",
    "x[0:5]"
   ]
  },
  {
   "cell_type": "code",
   "execution_count": 7,
   "metadata": {},
   "outputs": [
    {
     "name": "stdout",
     "output_type": "stream",
     "text": [
      "kane, son, lamela\n",
      "Students are : \n",
      "['kane', 'son', 'lamela']\n",
      "Who is new student?\n",
      "moura\n",
      "['kane', 'lamela', 'moura', 'son']\n"
     ]
    }
   ],
   "source": [
    "a,b,c = input().split(', ')\n",
    "print('Students are : ')\n",
    "student = [a, b, c]\n",
    "print(student)\n",
    "print('Who is new student?')\n",
    "New = input()\n",
    "student.insert(3,New)\n",
    "student.sort()\n",
    "print(student)"
   ]
  },
  {
   "cell_type": "markdown",
   "metadata": {},
   "source": [
    "# Example2"
   ]
  },
  {
   "cell_type": "code",
   "execution_count": 9,
   "metadata": {},
   "outputs": [
    {
     "name": "stdout",
     "output_type": "stream",
     "text": [
      "Weight of Luggage30\n",
      "Heavy luaggage need to pay 20000won more\n",
      "Thank you!\n"
     ]
    }
   ],
   "source": [
    "weight=float(input(\"Weight of Luggage\"))\n",
    "\n",
    "if weight>20:\n",
    "    print(\"Heavy luaggage need to pay 20000won more\")\n",
    "else:\n",
    "    print(\"You don't have more fee\")\n",
    "print(\"Thank you!\")"
   ]
  },
  {
   "cell_type": "markdown",
   "metadata": {},
   "source": [
    "# Example3"
   ]
  },
  {
   "cell_type": "code",
   "execution_count": 11,
   "metadata": {},
   "outputs": [
    {
     "name": "stdout",
     "output_type": "stream",
     "text": [
      "Input Credit Number150\n",
      "Input Gpa3\n",
      "You can graduate\n"
     ]
    }
   ],
   "source": [
    "credits = float(input(\"Input Credit Number\"))\n",
    "gpa = float(input(\"Input Gpa\"))\n",
    "if credits >= 140 and gpa >= 2.0 :\n",
    "    print(\"You can graduate\")\n",
    "else:\n",
    "    print(\"You can't graduate\")"
   ]
  },
  {
   "cell_type": "markdown",
   "metadata": {},
   "source": [
    "# Lab1"
   ]
  },
  {
   "cell_type": "code",
   "execution_count": 15,
   "metadata": {},
   "outputs": [
    {
     "name": "stdout",
     "output_type": "stream",
     "text": [
      "How old is baby6\n",
      "Baby need lung vaccine\n"
     ]
    }
   ],
   "source": [
    "Month = float(input(\"How old is baby\"))\n",
    "if Month <= 1:\n",
    "    print(\"Baby need TB vaccine and B type vaccine\")\n",
    "elif 1<= Month and Month <2:\n",
    "    print(\"Baby need B type vaccine\")\n",
    "elif 2<= Month and Month < 6:\n",
    "    print(\"Baby need tetanus vaccine and lung vaccine\")\n",
    "elif 6<= Month and Month <15:\n",
    "    print(\"Baby need lung vaccine\")\n",
    "    "
   ]
  },
  {
   "cell_type": "markdown",
   "metadata": {},
   "source": [
    "# Lab2"
   ]
  },
  {
   "cell_type": "code",
   "execution_count": 30,
   "metadata": {},
   "outputs": [
    {
     "name": "stdout",
     "output_type": "stream",
     "text": [
      "Input any Word : weekday\n",
      "mid-word :  k\n"
     ]
    }
   ],
   "source": [
    "word = input(\"Input any Word : \")\n",
    "a = len(word)//2\n",
    "if (len(word)%2 == 1):\n",
    "    print(\"mid-word : \", word[a])\n",
    "else: \n",
    "    print(\"mid-word : \", word[a-1], word[a])"
   ]
  },
  {
   "cell_type": "markdown",
   "metadata": {},
   "source": [
    "# Lab3"
   ]
  },
  {
   "cell_type": "code",
   "execution_count": 18,
   "metadata": {},
   "outputs": [
    {
     "name": "stdout",
     "output_type": "stream",
     "text": [
      "50, 60, 30, 50, 40\n",
      "Korean :  50\n",
      "English :  60\n",
      "History :  30\n",
      "Select Course1 :  50\n",
      "Select Course2 :  40\n",
      "You can't pass\n"
     ]
    }
   ],
   "source": [
    "a,b,c,d,e = input().split(\", \")\n",
    "print(\"Korean : \", a)\n",
    "print(\"English : \", b)\n",
    "print(\"History : \", c)\n",
    "print(\"Select Course1 : \", d)\n",
    "print(\"Select Course2 : \", e)\n",
    "if a or b or c or d or e < 40 :\n",
    "    print(\"You can't pass\")\n",
    "else:\n",
    "    print(\"You can pass\")"
   ]
  },
  {
   "cell_type": "markdown",
   "metadata": {},
   "source": [
    "# Example5"
   ]
  },
  {
   "cell_type": "code",
   "execution_count": 1,
   "metadata": {},
   "outputs": [
    {
     "name": "stdout",
     "output_type": "stream",
     "text": [
      "Input Quality of Apple : fresh\n",
      "Input Price of One Apple1000\n",
      "Buy 5 apples.\n"
     ]
    }
   ],
   "source": [
    "appleQuality = input(\"Input Quality of Apple : \")\n",
    "applePrice = int(input(\"Input Price of One Apple\"))\n",
    "if appleQuality == \"fresh\" :\n",
    "    if applePrice < 1000:\n",
    "        print(\"Buy 10 apples.\")\n",
    "    else:\n",
    "        print(\"Buy 5 apples.\")\n",
    "else:\n",
    "    print(\"Do not buy apple.\")"
   ]
  },
  {
   "cell_type": "markdown",
   "metadata": {},
   "source": [
    "# Lab4"
   ]
  },
  {
   "cell_type": "code",
   "execution_count": 25,
   "metadata": {},
   "outputs": [
    {
     "name": "stdout",
     "output_type": "stream",
     "text": [
      "Cider - 700 won, Coke - 800 won, Water - 1200 won\n",
      "Input the money : 1500\n",
      "Choose 1.Cider 2.Coke 3.Water : 3\n",
      "Here you are. This is Water\n",
      "You can keep your Charge\n"
     ]
    }
   ],
   "source": [
    "print(\"Cider - 700 won, Coke - 800 won, Water - 1200 won\")\n",
    "Money = int(input(\"Input the money : \"))\n",
    "Choice = int(input(\"Choose 1.Cider 2.Coke 3.Water : \"))\n",
    "\n",
    "if Choice == 1 and Money > 700 :\n",
    "    print(\"Here you are. This is Cider\")\n",
    "    Money = Money - 700\n",
    "elif Choice == 2 and Money > 800 :\n",
    "    print(\"Here you are. This is Coke\")\n",
    "    Money = Money - 800\n",
    "elif Choice == 3 and Money > 1200 :\n",
    "    print(\"Here you are. This is Water\")\n",
    "    Money = Money - 1200\n",
    "else :\n",
    "    print(\"You Can't buy drink\")\n",
    "if Money > 0:\n",
    "    print(\"You can keep your Charge\")\n",
    "    Money"
   ]
  },
  {
   "cell_type": "markdown",
   "metadata": {},
   "source": [
    "# Lab5"
   ]
  },
  {
   "cell_type": "code",
   "execution_count": 31,
   "metadata": {},
   "outputs": [
    {
     "name": "stdout",
     "output_type": "stream",
     "text": [
      "Choose 'Rock', 'Sisors', 'Paper' : Paper\n"
     ]
    },
    {
     "ename": "NameError",
     "evalue": "name 'Sisors' is not defined",
     "output_type": "error",
     "traceback": [
      "\u001b[1;31m---------------------------------------------------------------------------\u001b[0m",
      "\u001b[1;31mNameError\u001b[0m                                 Traceback (most recent call last)",
      "\u001b[1;32m<ipython-input-31-289e5be7f30c>\u001b[0m in \u001b[0;36m<module>\u001b[1;34m\u001b[0m\n\u001b[0;32m      8\u001b[0m \u001b[1;32mif\u001b[0m \u001b[0ma\u001b[0m \u001b[1;33m==\u001b[0m \u001b[0mChoice\u001b[0m\u001b[1;33m:\u001b[0m\u001b[1;33m\u001b[0m\u001b[1;33m\u001b[0m\u001b[0m\n\u001b[0;32m      9\u001b[0m     \u001b[0mprint\u001b[0m\u001b[1;33m(\u001b[0m\u001b[1;34m\"Play Game Again\"\u001b[0m\u001b[1;33m)\u001b[0m\u001b[1;33m\u001b[0m\u001b[1;33m\u001b[0m\u001b[0m\n\u001b[1;32m---> 10\u001b[1;33m \u001b[1;32melif\u001b[0m \u001b[0ma\u001b[0m \u001b[1;33m==\u001b[0m \u001b[1;34m'Rock'\u001b[0m \u001b[1;32mand\u001b[0m \u001b[0mChoice\u001b[0m \u001b[1;33m==\u001b[0m \u001b[0mSisors\u001b[0m\u001b[1;33m:\u001b[0m\u001b[1;33m\u001b[0m\u001b[1;33m\u001b[0m\u001b[0m\n\u001b[0m\u001b[0;32m     11\u001b[0m     \u001b[0mprint\u001b[0m\u001b[1;33m(\u001b[0m\u001b[1;34m\"Computer Win\"\u001b[0m\u001b[1;33m)\u001b[0m\u001b[1;33m\u001b[0m\u001b[1;33m\u001b[0m\u001b[0m\n\u001b[0;32m     12\u001b[0m \u001b[1;32melif\u001b[0m \u001b[0ma\u001b[0m\u001b[1;33m==\u001b[0m \u001b[1;34m'Paper'\u001b[0m \u001b[1;32mand\u001b[0m \u001b[0mChoice\u001b[0m \u001b[1;33m==\u001b[0m \u001b[0mRock\u001b[0m\u001b[1;33m:\u001b[0m\u001b[1;33m\u001b[0m\u001b[1;33m\u001b[0m\u001b[0m\n",
      "\u001b[1;31mNameError\u001b[0m: name 'Sisors' is not defined"
     ]
    }
   ],
   "source": [
    "Choice = input(\"Choose 'Rock', 'Sisors', 'Paper' : \")\n",
    "\n",
    "import random\n",
    "Computer = 'Rock', 'Sisors', 'Paper'\n",
    "a = random.choice(Computer)\n",
    "a\n",
    "\n",
    "if a == Choice:\n",
    "    print(\"Play Game Again\")\n",
    "elif a == 'Rock' and Choice == Sisors:\n",
    "    print(\"Computer Win\")\n",
    "elif a== 'Paper' and Choice == Rock:\n",
    "    print(\"Computer Win\")\n",
    "elif a== 'Sisors' and Choice == Paper:\n",
    "    print(\"Computer Win\")\n",
    "else :\n",
    "    print(\"You Win\")\n"
   ]
  }
 ],
 "metadata": {
  "kernelspec": {
   "display_name": "Python 3",
   "language": "python",
   "name": "python3"
  },
  "language_info": {
   "codemirror_mode": {
    "name": "ipython",
    "version": 3
   },
   "file_extension": ".py",
   "mimetype": "text/x-python",
   "name": "python",
   "nbconvert_exporter": "python",
   "pygments_lexer": "ipython3",
   "version": "3.7.6"
  }
 },
 "nbformat": 4,
 "nbformat_minor": 4
}
