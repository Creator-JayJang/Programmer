{
 "cells": [
  {
   "cell_type": "code",
   "execution_count": 12,
   "metadata": {},
   "outputs": [
    {
     "name": "stdout",
     "output_type": "stream",
     "text": [
      "Input the word : abc\n",
      "['a', 'b', 'c']\n",
      "['c', 'b', 'a']\n",
      "cba\n"
     ]
    }
   ],
   "source": [
    "word = input(\"Input the word : \")\n",
    "world_list = list(word)\n",
    "print(world_list)\n",
    "\n",
    "result = []\n",
    "for _ in range(len(world_list)):\n",
    "    result.append(world_list.pop())\n",
    "    \n",
    "print(result)\n",
    "print(word[::-1])\n"
   ]
  },
  {
   "cell_type": "code",
   "execution_count": 11,
   "metadata": {},
   "outputs": [
    {
     "data": {
      "text/plain": [
       "2"
      ]
     },
     "execution_count": 11,
     "metadata": {},
     "output_type": "execute_result"
    }
   ],
   "source": [
    "a = [1,2,3,4,5]\n",
    "a.append(10)\n",
    "a.append(20)\n",
    "a.pop(0)\n",
    "a.pop(0)"
   ]
  },
  {
   "cell_type": "markdown",
   "metadata": {},
   "source": [
    "sen = input(\"Input the Sentance : \")\n",
    "sen_List = list(sen)\n",
    "print(sen_List)\n",
    "\n",
    "print(sen[::-1])"
   ]
  },
  {
   "cell_type": "markdown",
   "metadata": {},
   "source": [
    "## Palindrome"
   ]
  },
  {
   "cell_type": "code",
   "execution_count": 26,
   "metadata": {},
   "outputs": [
    {
     "name": "stdout",
     "output_type": "stream",
     "text": [
      "True\n",
      "True\n",
      "False\n"
     ]
    }
   ],
   "source": [
    "def palindrome(s):\n",
    "    \n",
    "    qu = []\n",
    "    st = []\n",
    "    \n",
    "    for x in s:\n",
    "        if x.isalpha():\n",
    "            qu.append(x.lower())\n",
    "            st.append(x.lower())\n",
    "        \n",
    "    while qu:\n",
    "        if qu.pop(0) != st.pop():\n",
    "            return False\n",
    "        \n",
    "    return True\n",
    "\n",
    "print(palindrome(\"wow\"))\n",
    "print(palindrome(\"Madam, I'm Adam.\"))\n",
    "print(palindrome(\"Madam, I am Adam\"))\n"
   ]
  },
  {
   "cell_type": "code",
   "execution_count": 27,
   "metadata": {},
   "outputs": [
    {
     "name": "stdout",
     "output_type": "stream",
     "text": [
      "(1, 2, 3, 1, 2, 3) (1, 2, 3, 1, 2, 3)\n"
     ]
    },
    {
     "data": {
      "text/plain": [
       "3"
      ]
     },
     "execution_count": 27,
     "metadata": {},
     "output_type": "execute_result"
    }
   ],
   "source": [
    "t = (1,2,3)\n",
    "print(t + t, t * 2)\n",
    "len(t)"
   ]
  },
  {
   "cell_type": "markdown",
   "metadata": {},
   "source": [
    "## Tuple Manipulator"
   ]
  },
  {
   "cell_type": "code",
   "execution_count": 37,
   "metadata": {
    "scrolled": true
   },
   "outputs": [
    {
     "name": "stdout",
     "output_type": "stream",
     "text": [
      "Tuple Manipulator\n",
      "Input the data in a row, using spacebar\n",
      "a b c d\n",
      "Input Opreation Content\n",
      "q = quit, s = slicing, c = counting, e = exist :q\n",
      "Close Program\n"
     ]
    }
   ],
   "source": [
    "print(\"Tuple Manipulator\")\n",
    "print(\"Input the data in a row, using spacebar\")\n",
    "a = input()\n",
    "a = tuple(a.split(\" \"))\n",
    "\n",
    "while True:\n",
    "    print(\"Input Opreation Content\")\n",
    "    b = input(\"q = quit, s = slicing, c = counting, e = exist :\")\n",
    "\n",
    "    if b == \"q\":\n",
    "        print(\"Close Program\")\n",
    "        break\n",
    "    elif b == \"s\":\n",
    "        b1 = int(input(\"From : \"))\n",
    "        b2 = int(input(\"To : \"))\n",
    "        print(a[b1:b2])\n",
    "    elif b == \"c\":\n",
    "        c1 = input(\"looking Data : \")\n",
    "        print( \"This is\", a.count(c1))\n",
    "    elif b == \"i\":\n",
    "        c1 = input(\"looking Data : \")\n",
    "        print(i1 in a)\n",
    "    "
   ]
  },
  {
   "cell_type": "markdown",
   "metadata": {},
   "source": [
    "## Tuple and Set"
   ]
  },
  {
   "cell_type": "code",
   "execution_count": 47,
   "metadata": {},
   "outputs": [
    {
     "name": "stdout",
     "output_type": "stream",
     "text": [
      "Input the file name : proverbs.txt\n",
      "Number of Using words = 18\n",
      "{'done', 'of', 'flock', 'together', 'well', 'ends', 'travels', 'a', 'fast', 'birds', 'begun', 'alls', 'news', 'feather', 'that', 'bad', 'is', 'half'}\n"
     ]
    }
   ],
   "source": [
    "def process(w):\n",
    "    output = \"\"\n",
    "    for ch in w:\n",
    "        if(ch.isalpha()):\n",
    "            output += ch\n",
    "    return output.lower()\n",
    "words = set()\n",
    "\n",
    "fname = input(\"Input the file name : \")\n",
    "file = open(fname, \"r\")\n",
    "\n",
    "for line in file:\n",
    "    lineWords = line.split()\n",
    "    for word in lineWords:\n",
    "        words.add(process(word))\n",
    "        \n",
    "print(\"Number of Using words =\", len(words))\n",
    "print(words)"
   ]
  },
  {
   "cell_type": "markdown",
   "metadata": {},
   "source": [
    "## Dictionary"
   ]
  },
  {
   "cell_type": "code",
   "execution_count": 50,
   "metadata": {},
   "outputs": [
    {
     "name": "stdout",
     "output_type": "stream",
     "text": [
      "Student Number : 12345\n",
      "Name : James\n",
      "BirthDay : 19950405\n",
      "Phone Number : 12341234\n",
      "Address : USA\n",
      "1. Complete Input Information of Student {'Student Number': 12345, 'Name': 'James', 'BirthDay': '19950405', 'Phone Number': '12341234', 'Address': 'USA'}\n",
      "Student Number : 0\n",
      "Close Program\n"
     ]
    }
   ],
   "source": [
    "n = 0\n",
    "student = []\n",
    "\n",
    "while True:\n",
    "    n = n + 1\n",
    "    number = int(input(\"Student Number : \"))\n",
    "    if number == 0:\n",
    "        print('Close Program')\n",
    "        break\n",
    "        \n",
    "    name = input(\"Name : \")\n",
    "    birth = input(\"BirthDay : \")\n",
    "    phone = input(\"Phone Number : \")\n",
    "    address = input(\"Address : \")\n",
    "    student.append({\"Student Number\" : number, \"Name\" : name, \"BirthDay\" : birth,\n",
    "                    \"Phone Number\" : phone, \"Address\" : address})\n",
    "    print(\"%d. Complete Input Information of Student %s\"%(n,student[n-1]))"
   ]
  },
  {
   "cell_type": "markdown",
   "metadata": {},
   "source": [
    "## Data type"
   ]
  },
  {
   "cell_type": "code",
   "execution_count": 64,
   "metadata": {},
   "outputs": [
    {
     "name": "stdout",
     "output_type": "stream",
     "text": [
      "{'c', 'd', 'e', 'b', 'a'}\n"
     ]
    }
   ],
   "source": [
    "group1 = set([\"a\",\"b\",\"c\",\"d\",\"e\"])\n",
    "group2 = set([\"b\",\"c\",\"d\"])\n",
    "\n",
    "if group1 >=group2:\n",
    "    del group2\n",
    "print(group1)\n",
    "\n"
   ]
  },
  {
   "cell_type": "code",
   "execution_count": 62,
   "metadata": {},
   "outputs": [
    {
     "name": "stdout",
     "output_type": "stream",
     "text": [
      "Mix 1 6000\n",
      "PaperCup 0 0\n",
      "StickCoffe 2 6000\n",
      "payment 12000\n"
     ]
    }
   ],
   "source": [
    "store = {'Mix' : [2,6000], 'PaperCup' : [3,15000], 'StickCoffe' : [1,3000]}\n",
    "money = 0\n",
    "money_sum = 0\n",
    "for a in store.keys():\n",
    "    money = 0\n",
    "    if store[a][0] <= 3:\n",
    "        money = (3-store[a][0]) * store[a][1]\n",
    "        print(a, 3-store[a][0], money)\n",
    "        money_sum = money_sum + money\n",
    "print(\"payment\", money_sum)"
   ]
  },
  {
   "cell_type": "markdown",
   "metadata": {},
   "source": [
    "## deque"
   ]
  },
  {
   "cell_type": "code",
   "execution_count": 66,
   "metadata": {},
   "outputs": [
    {
     "name": "stdout",
     "output_type": "stream",
     "text": [
      "deque([4, 3, 2, 1, 0])\n"
     ]
    }
   ],
   "source": [
    "from collections import deque\n",
    "\n",
    "deque_list = deque()\n",
    "for i in range(5):\n",
    "    deque_list.appendleft(i)\n",
    "    \n",
    "print(deque_list)\n"
   ]
  },
  {
   "cell_type": "markdown",
   "metadata": {},
   "source": [
    "## OderedDict Module"
   ]
  },
  {
   "cell_type": "markdown",
   "metadata": {},
   "source": [
    "def sort_by_key(t):\n",
    "    return t[0]\n",
    "\n",
    "from collections import OrderedDict\n",
    "\n",
    "d = dict()\n",
    "d['x'] = 100\n",
    "d['y'] = 200\n",
    "d['z'] = 300\n",
    "d['l'] = 500\n",
    "\n",
    "for k,v in OrderedDict(sorted(d.items(),key=sort_by_key)).items():\n",
    "    print(k,v)"
   ]
  },
  {
   "cell_type": "markdown",
   "metadata": {},
   "source": [
    "## Defaultdict Module"
   ]
  },
  {
   "cell_type": "code",
   "execution_count": 72,
   "metadata": {},
   "outputs": [
    {
     "name": "stdout",
     "output_type": "stream",
     "text": [
      "dict_items([('yellow', [1, 3]), ('blue', [2, 4]), ('red', [1])])\n"
     ]
    },
    {
     "data": {
      "text/plain": [
       "[('blue', [2, 4]), ('red', [1]), ('yellow', [1, 3])]"
      ]
     },
     "execution_count": 72,
     "metadata": {},
     "output_type": "execute_result"
    }
   ],
   "source": [
    "from collections import defaultdict\n",
    "\n",
    "s = [('yellow', 1),('blue', 2), ('yellow', 3), ('blue', 4), ('red',1)]\n",
    "d = defaultdict(list)\n",
    "for k,v in s:\n",
    "    d[k].append(v)\n",
    "    \n",
    "print(d.items())\n",
    "[('blue',[2, 4]),('red',[1]),('yellow',[1, 3])]"
   ]
  },
  {
   "cell_type": "markdown",
   "metadata": {},
   "source": [
    "## Text Mining Program"
   ]
  },
  {
   "cell_type": "code",
   "execution_count": 136,
   "metadata": {},
   "outputs": [
    {
     "name": "stdout",
     "output_type": "stream",
     "text": [
      "and 3\n",
      "to 3\n",
      "a 2\n",
      "press 2\n",
      "release 2\n",
      "can 2\n",
      "you 2\n",
      "is 1\n",
      "the 1\n",
      "quickest 1\n",
      "easiest 1\n",
      "way 1\n",
      "get 1\n",
      "free 1\n",
      "publicity. 1\n",
      "if 1\n",
      "well 1\n",
      "written, 1\n",
      "result 1\n",
      "in 1\n",
      "multiple 1\n",
      "published 1\n",
      "articles 1\n",
      "about 1\n",
      "your 1\n",
      "firm 1\n",
      "its 1\n",
      "products. 1\n",
      "that 1\n",
      "mean 1\n",
      "new 1\n",
      "prospects 1\n",
      "contacting 1\n",
      "asking 1\n",
      "sell 1\n",
      "them 1\n"
     ]
    }
   ],
   "source": [
    "text = \"\"\"A press release is the quickest and easiest way to get free publicity. \n",
    "If well written, a press release can result in multiple published articles about\n",
    "your firm and its products. And that can mean new prospects contacting you asking\n",
    "you to sell to them\"\"\".lower().split()\n",
    "\n",
    "from collections import defaultdict\n",
    "\n",
    "word_count = defaultdict(lambda:0)\n",
    "for word in text:\n",
    "    word_count[word] += 1\n",
    "    \n",
    "from collections import OrderedDict\n",
    "\n",
    "for i,v in OrderedDict(sorted(word_count.items(),key=lambda t:t[1], reverse = True)).items():\n",
    "    print(i,v)"
   ]
  },
  {
   "cell_type": "markdown",
   "metadata": {},
   "source": [
    "## Same Name Analysis Algorithm"
   ]
  },
  {
   "cell_type": "code",
   "execution_count": 106,
   "metadata": {},
   "outputs": [
    {
     "name": "stdout",
     "output_type": "stream",
     "text": [
      "{'Tom'}\n",
      "{'Mike', 'Tom'}\n"
     ]
    }
   ],
   "source": [
    "def find_same_name(a):\n",
    "    name_dict = {}\n",
    "    for name in a:\n",
    "        if name in name_dict:\n",
    "            name_dict[name] += 1\n",
    "        else:\n",
    "            name_dict[name] = 1\n",
    "    result = set()\n",
    "    for name in name_dict:\n",
    "        if name_dict[name] >= 2:\n",
    "            result.add(name)\n",
    "            \n",
    "    return result\n",
    "                \n",
    "\n",
    "name = [\"Tom\", \"Jerry\", \"Mike\", \"Tom\"]\n",
    "print(find_same_name(name))\n",
    "\n",
    "name2 = [\"Tom\", \"Jerry\", \"Mike\", \"Tom\", \"Mike\"]\n",
    "print(find_same_name(name2))\n"
   ]
  },
  {
   "cell_type": "markdown",
   "metadata": {},
   "source": [
    "## Dictionary1"
   ]
  },
  {
   "cell_type": "code",
   "execution_count": 94,
   "metadata": {},
   "outputs": [
    {
     "data": {
      "text/plain": [
       "{20140012: 'Janhyeok',\n",
       " 20140059: 'Jiyoung',\n",
       " 20140058: 'JaeHong',\n",
       " 20140039: 'Wonchul'}"
      ]
     },
     "execution_count": 94,
     "metadata": {},
     "output_type": "execute_result"
    }
   ],
   "source": [
    "student_info = {20140012 : 'Sungchul', 20140059 : 'Jiyoung', 20140058 : 'JaeHong'}\n",
    "student_info[20140012] = \"Janhyeok\"\n",
    "student_info\n",
    "student_info[20140039] = \"Wonchul\"\n",
    "student_info"
   ]
  },
  {
   "cell_type": "markdown",
   "metadata": {},
   "source": [
    "## Dictionary2"
   ]
  },
  {
   "cell_type": "code",
   "execution_count": 120,
   "metadata": {},
   "outputs": [
    {
     "data": {
      "text/plain": [
       "dict_items([('America', 1), ('Korea', 82), ('China', 86), ('Japan', 81), ('German', 49)])"
      ]
     },
     "execution_count": 120,
     "metadata": {},
     "output_type": "execute_result"
    }
   ],
   "source": [
    "country_code = {}\n",
    "country_code = {\"America\":1, \"Korea\":82, \"China\":86, \"Japan\":81}\n",
    "country_code\n",
    "country_code.keys()\n",
    "\n",
    "country_code[\"German\"] = 49\n",
    "country_code\n",
    "country_code.values()\n",
    "country_code.items()\n",
    "\n"
   ]
  },
  {
   "cell_type": "markdown",
   "metadata": {},
   "source": [
    "## Merge Sort"
   ]
  },
  {
   "cell_type": "code",
   "execution_count": 130,
   "metadata": {},
   "outputs": [
    {
     "name": "stdout",
     "output_type": "stream",
     "text": [
      "[19, 21, 38, 53, 62]\n"
     ]
    }
   ],
   "source": [
    "def merge_sort(arr):\n",
    "    if len(arr) < 2:\n",
    "        return arr\n",
    "\n",
    "    mid = len(arr) // 2\n",
    "    low_arr = merge_sort(arr[:mid])\n",
    "    high_arr = merge_sort(arr[mid:])\n",
    "\n",
    "    merged_arr = []\n",
    "    l = h = 0\n",
    "    while l < len(low_arr) and h < len(high_arr):\n",
    "        if low_arr[l] < high_arr[h]:\n",
    "            merged_arr.append(low_arr[l])\n",
    "            l += 1\n",
    "        else:\n",
    "            merged_arr.append(high_arr[h])\n",
    "            h += 1\n",
    "    merged_arr += low_arr[l:]\n",
    "    merged_arr += high_arr[h:]\n",
    "    return merged_arr\n",
    "\n",
    "arr = [38, 21, 53, 62, 19]\n",
    "print(merge_sort(arr))"
   ]
  },
  {
   "cell_type": "code",
   "execution_count": 133,
   "metadata": {},
   "outputs": [
    {
     "name": "stdout",
     "output_type": "stream",
     "text": [
      "[1, 2, 3, 4, 5, 6, 7, 8, 9, 10]\n"
     ]
    }
   ],
   "source": [
    "def merge_sort(a):\n",
    "    n = len(a)\n",
    "    if n <= 1:\n",
    "        return a\n",
    "\n",
    "    mid = n // 2\n",
    "    g1 = merge_sort(a[:mid])\n",
    "    g2 = merge_sort(a[mid:])\n",
    "\n",
    "    result = []\n",
    "    while g1 and g2:\n",
    "        if g1[0] < g2[0]:\n",
    "            result.append(g1.pop(0))\n",
    "        else:\n",
    "            result.append(g2.pop(0))\n",
    "            \n",
    "    while g1:\n",
    "        result.append(g1.pop(0))\n",
    "    while g2:\n",
    "        result.append(g2.pop(0))\n",
    "    return result\n",
    "    \n",
    "d = [6, 8, 3, 9, 10, 1, 2, 4, 7, 5]\n",
    "print(merge_sort(d))"
   ]
  }
 ],
 "metadata": {
  "kernelspec": {
   "display_name": "Python 3",
   "language": "python",
   "name": "python3"
  },
  "language_info": {
   "codemirror_mode": {
    "name": "ipython",
    "version": 3
   },
   "file_extension": ".py",
   "mimetype": "text/x-python",
   "name": "python",
   "nbconvert_exporter": "python",
   "pygments_lexer": "ipython3",
   "version": "3.7.6"
  }
 },
 "nbformat": 4,
 "nbformat_minor": 4
}
